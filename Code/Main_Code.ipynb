{
 "cells": [
  {
   "cell_type": "code",
   "execution_count": 60,
   "metadata": {},
   "outputs": [],
   "source": [
    "import yfinance as yf\n",
    "import pandas as pd"
   ]
  },
  {
   "cell_type": "code",
   "execution_count": 61,
   "metadata": {},
   "outputs": [],
   "source": [
    "import yfinance as yf\n",
    "import pandas as pd\n",
    "\n",
    "def get_stock_data(stock_symbol, start_year, end_year):\n",
    "    \"\"\"\n",
    "    Belirli bir başlangıç ve bitiş tarihine göre hisse senedi verilerini çeker.\n",
    "    \n",
    "    stock_symbol: Hisse senedi kodu\n",
    "    start_year: Yatırımın başlangıç yılı\n",
    "    end_year: Yatırımın bitiş yılı\n",
    "    \"\"\"\n",
    "    try:\n",
    "        start_date = f\"{start_year}-01-01\"\n",
    "        end_date = f\"{end_year}-12-31\"\n",
    "        \n",
    "        stock_data = yf.download(stock_symbol, start=start_date, end=end_date, interval=\"1mo\")\n",
    "        if stock_data.empty:\n",
    "            raise ValueError(f\"{stock_symbol} için {start_date} ile {end_date} arasında veri bulunamadı.\")\n",
    "        \n",
    "        # Sadece kapanış fiyatlarını al ve NaN değerleri temizle\n",
    "        monthly_closing_prices = stock_data['Close'].dropna()\n",
    "        result = pd.DataFrame({\n",
    "            \"Date\": monthly_closing_prices.index,\n",
    "            \"Close\": monthly_closing_prices.values.ravel()\n",
    "        })\n",
    "        return result\n",
    "    except Exception as e:\n",
    "        print(f\"Hata: {e}\")\n",
    "        return None\n"
   ]
  },
  {
   "cell_type": "code",
   "execution_count": 62,
   "metadata": {},
   "outputs": [],
   "source": [
    "def get_coffee_price(coffee_type):\n",
    "    \"\"\"\n",
    "    Kullanıcının seçtiği kahve tipine göre sabit bir fiyat döndürür.\n",
    "    \"\"\"\n",
    "    coffee_prices = {\n",
    "        \"Small\": 2.5,\n",
    "        \"Cappuccino\": 3.5,\n",
    "        \"Fancy Latte\": 4.5\n",
    "    }\n",
    "    return coffee_prices.get(coffee_type, None)\n"
   ]
  },
  {
   "cell_type": "code",
   "execution_count": 63,
   "metadata": {},
   "outputs": [],
   "source": [
    "def calculate_investment(stock_data, daily_coffee_price, working_days=20):\n",
    "    \"\"\"\n",
    "    Günlük kahve harcamasını hesaplar ve bu parayla düzenli yatırım yapılırsa toplam değerini hesaplar.\n",
    "    \n",
    "    stock_data: Hisse senedi fiyatları (Date ve Close kolonlarını içeren DataFrame)\n",
    "    daily_coffee_price: Günlük kahve fiyatı (USD/EUR)\n",
    "    working_days: Ayda kaç gün kahve içildiği (varsayılan: 20 gün)\n",
    "    \"\"\"\n",
    "    monthly_investment = daily_coffee_price * working_days  # Aylık yatırım\n",
    "    total_shares = 0\n",
    "    total_investment = 0\n",
    "\n",
    "    for _, row in stock_data.iterrows():\n",
    "        price = row[\"Close\"]\n",
    "        if price > 0:  # Negatif ya da sıfır fiyatları engelle\n",
    "            shares_bought = monthly_investment / price\n",
    "            total_shares += shares_bought\n",
    "            total_investment += monthly_investment\n",
    "\n",
    "    final_price = stock_data[\"Close\"].iloc[-1]\n",
    "    investment_value = total_shares * final_price\n",
    "\n",
    "    return {\n",
    "        \"Total Investment\": round(total_investment, 2),\n",
    "        \"Final Investment Value\": round(investment_value, 2),\n",
    "        \"Total Shares Bought\": round(total_shares, 4),\n",
    "    }\n"
   ]
  },
  {
   "cell_type": "code",
   "execution_count": 64,
   "metadata": {},
   "outputs": [],
   "source": [
    "def main():\n",
    "    \"\"\"\n",
    "    Kullanıcıdan girdileri alır, yatırım hesaplar ve sonucu yazdırır.\n",
    "    \"\"\"\n",
    "    stock_symbol = input(\"Hisse senedi kodunu girin: \").strip()\n",
    "    coffee_type = input(\"Kahve tipini seçin (Small, Cappuccino, Fancy Latte): \").strip()\n",
    "    \n",
    "    start_year = int(input(\"Yatırımın başlayacağı yılı girin (YYYY formatında): \").strip())\n",
    "    end_year = int(input(\"Yatırımın biteceği yılı girin (YYYY formatında): \").strip())\n",
    "    \n",
    "    # Kahve fiyatını al\n",
    "    coffee_price = get_coffee_price(coffee_type)\n",
    "    if coffee_price is None:\n",
    "        print(\"Geçersiz kahve tipi seçildi!\")\n",
    "        return\n",
    "    \n",
    "    # Hisse senedi verisini çek\n",
    "    stock_data = get_stock_data(stock_symbol, start_year, end_year)\n",
    "    if stock_data is None:\n",
    "        print(\"Hisse senedi verisi alınamadı.\")\n",
    "        return\n",
    "\n",
    "    # Yatırım hesapla\n",
    "    investment_result = calculate_investment(stock_data, coffee_price)\n",
    "\n",
    "    # Sonuçları yazdır\n",
    "    print(\"\\nYatırım Sonuçları:\")\n",
    "    print(f\"Toplam Yatırım: {investment_result['Total Investment']} USD\")\n",
    "    print(f\"Yatırımın Bugünkü Değeri: {investment_result['Final Investment Value']} USD\")\n",
    "    print(f\"Alınan Toplam Hisse Miktarı: {investment_result['Total Shares Bought']}\")\n"
   ]
  },
  {
   "cell_type": "code",
   "execution_count": 65,
   "metadata": {},
   "outputs": [
    {
     "name": "stderr",
     "output_type": "stream",
     "text": [
      "[*********************100%***********************]  1 of 1 completed"
     ]
    },
    {
     "name": "stdout",
     "output_type": "stream",
     "text": [
      "\n",
      "Yatırım Sonuçları:\n",
      "Toplam Yatırım: 16800.0 USD\n",
      "Yatırımın Bugünkü Değeri: 203981.88 USD\n",
      "Alınan Toplam Hisse Miktarı: 480.1494\n"
     ]
    },
    {
     "name": "stderr",
     "output_type": "stream",
     "text": [
      "\n"
     ]
    }
   ],
   "source": [
    "if __name__ == \"__main__\":\n",
    "    main()\n"
   ]
  }
 ],
 "metadata": {
  "kernelspec": {
   "display_name": "finance_analysis",
   "language": "python",
   "name": "python3"
  },
  "language_info": {
   "codemirror_mode": {
    "name": "ipython",
    "version": 3
   },
   "file_extension": ".py",
   "mimetype": "text/x-python",
   "name": "python",
   "nbconvert_exporter": "python",
   "pygments_lexer": "ipython3",
   "version": "3.11.5"
  }
 },
 "nbformat": 4,
 "nbformat_minor": 2
}

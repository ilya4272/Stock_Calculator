{
 "cells": [
  {
   "cell_type": "code",
   "execution_count": 1,
   "metadata": {},
   "outputs": [],
   "source": [
    "import yfinance as yf\n",
    "import pandas as pd"
   ]
  },
  {
   "cell_type": "code",
   "execution_count": 2,
   "metadata": {},
   "outputs": [],
   "source": [
    "def get_stock_data(stock_symbol, start_year, end_year):\n",
    "    \"\"\"\n",
    "    Fetch stock data for a given start and end date.\n",
    "\n",
    "    stock_symbol: Stock ticker symbol\n",
    "    start_year: Start year of the investment\n",
    "    end_year: End year of the investment\n",
    "    \"\"\"\n",
    "    try:\n",
    "        start_date = f\"{start_year}-01-01\"\n",
    "        end_date = f\"{end_year}-12-31\"\n",
    "\n",
    "        stock_data = yf.download(stock_symbol, start=start_date, end=end_date, interval=\"1mo\")\n",
    "        if stock_data.empty:\n",
    "            raise ValueError(f\"No data found for {stock_symbol} between {start_date} and {end_date}.\")\n",
    "\n",
    "        # Extract closing prices and clean NaN values\n",
    "        monthly_closing_prices = stock_data['Close'].dropna()\n",
    "        result = pd.DataFrame({\n",
    "            \"Date\": monthly_closing_prices.index,\n",
    "            \"Close\": monthly_closing_prices.values.ravel()\n",
    "        })\n",
    "        return result\n",
    "    except Exception as e:\n",
    "        print(f\"Error: {e}\")\n",
    "        return None"
   ]
  },
  {
   "cell_type": "code",
   "execution_count": 3,
   "metadata": {},
   "outputs": [],
   "source": [
    "def get_coffee_price(coffee_type):\n",
    "    \"\"\"\n",
    "    Returns a fixed price based on the selected coffee type.\n",
    "    \"\"\"\n",
    "    coffee_prices = {\n",
    "        \"Small\": 2.5,\n",
    "        \"Cappuccino\": 3.5,\n",
    "        \"Fancy Latte\": 4.5\n",
    "    }\n",
    "    return coffee_prices.get(coffee_type, None)"
   ]
  },
  {
   "cell_type": "code",
   "execution_count": 4,
   "metadata": {},
   "outputs": [],
   "source": [
    "def calculate_investment(stock_data, daily_coffee_price, working_days=20):\n",
    "    \"\"\"\n",
    "    Calculates the total value of an investment made with daily coffee savings.\n",
    "\n",
    "    stock_data: Stock prices (DataFrame containing Date and Close columns)\n",
    "    daily_coffee_price: Daily coffee price (USD/EUR)\n",
    "    working_days: Number of working days per month (default: 20 days)\n",
    "    \"\"\"\n",
    "    monthly_investment = daily_coffee_price * working_days  # Monthly investment\n",
    "    total_shares = 0\n",
    "    total_investment = 0\n",
    "\n",
    "    for _, row in stock_data.iterrows():\n",
    "        price = row[\"Close\"]\n",
    "        if price > 0:  # Prevent negative or zero prices\n",
    "            shares_bought = monthly_investment / price\n",
    "            total_shares += shares_bought\n",
    "            total_investment += monthly_investment\n",
    "\n",
    "    final_price = stock_data[\"Close\"].iloc[-1]\n",
    "    investment_value = total_shares * final_price\n",
    "\n",
    "    return {\n",
    "        \"Total Investment\": round(total_investment, 2),\n",
    "        \"Final Investment Value\": round(investment_value, 2),\n",
    "        \"Total Shares Bought\": round(total_shares, 4),\n",
    "    }"
   ]
  },
  {
   "cell_type": "code",
   "execution_count": 5,
   "metadata": {},
   "outputs": [],
   "source": [
    "def main():\n",
    "    \"\"\"\n",
    "    Gets user input, calculates investment, and prints the result.\n",
    "    \"\"\"\n",
    "    stock_symbol = input(\"Enter the stock symbol: \").strip()\n",
    "    coffee_type = input(\"Select a coffee type (Small, Cappuccino, Fancy Latte): \").strip()\n",
    "\n",
    "    start_year = int(input(\"Enter the start year of the investment (YYYY format): \").strip())\n",
    "    end_year = int(input(\"Enter the end year of the investment (YYYY format): \").strip())\n",
    "\n",
    "    # Get coffee price\n",
    "    coffee_price = get_coffee_price(coffee_type)\n",
    "    if coffee_price is None:\n",
    "        print(\"Invalid coffee type selected!\")\n",
    "        return\n",
    "\n",
    "    # Fetch stock data\n",
    "    stock_data = get_stock_data(stock_symbol, start_year, end_year)\n",
    "    if stock_data is None:\n",
    "        print(\"Failed to retrieve stock data.\")\n",
    "        return\n",
    "\n",
    "    # Calculate investment\n",
    "    investment_result = calculate_investment(stock_data, coffee_price)\n",
    "\n",
    "    # Print results\n",
    "    print(\"\\nInvestment Results:\")\n",
    "    print(f\"Total Investment: {investment_result['Total Investment']} USD\")\n",
    "    print(f\"Final Investment Value: {investment_result['Final Investment Value']} USD\")\n",
    "    print(f\"Total Shares Bought: {investment_result['Total Shares Bought']}\")"
   ]
  },
  {
   "cell_type": "code",
   "execution_count": 6,
   "metadata": {},
   "outputs": [
    {
     "name": "stderr",
     "output_type": "stream",
     "text": [
      "[*********************100%***********************]  1 of 1 completed"
     ]
    },
    {
     "name": "stdout",
     "output_type": "stream",
     "text": [
      "\n",
      "Investment Results:\n",
      "Total Investment: 7800.0 USD\n",
      "Final Investment Value: 164504.42 USD\n",
      "Total Shares Bought: 10170.3597\n"
     ]
    },
    {
     "name": "stderr",
     "output_type": "stream",
     "text": [
      "\n"
     ]
    }
   ],
   "source": [
    "if __name__ == \"__main__\":\n",
    "    main()"
   ]
  }
 ],
 "metadata": {
  "kernelspec": {
   "display_name": "finance_analysis",
   "language": "python",
   "name": "python3"
  },
  "language_info": {
   "codemirror_mode": {
    "name": "ipython",
    "version": 3
   },
   "file_extension": ".py",
   "mimetype": "text/x-python",
   "name": "python",
   "nbconvert_exporter": "python",
   "pygments_lexer": "ipython3",
   "version": "3.11.5"
  }
 },
 "nbformat": 4,
 "nbformat_minor": 2
}
